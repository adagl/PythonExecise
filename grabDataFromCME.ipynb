{
  "nbformat": 4,
  "nbformat_minor": 0,
  "metadata": {
    "colab": {
      "name": "grabDataFromCME.ipynb",
      "provenance": [],
      "authorship_tag": "ABX9TyMF6KcnXyZ2SZwq7/VXOwdm",
      "include_colab_link": true
    },
    "kernelspec": {
      "name": "python3",
      "display_name": "Python 3"
    }
  },
  "cells": [
    {
      "cell_type": "markdown",
      "metadata": {
        "id": "view-in-github",
        "colab_type": "text"
      },
      "source": [
        "<a href=\"https://colab.research.google.com/github/adagl/PythonExecise/blob/master/grabDataFromCME.ipynb\" target=\"_parent\"><img src=\"https://colab.research.google.com/assets/colab-badge.svg\" alt=\"Open In Colab\"/></a>"
      ]
    },
    {
      "cell_type": "code",
      "metadata": {
        "id": "9yeufkuHytBm",
        "colab_type": "code",
        "outputId": "b7b246e2-4746-4c19-befd-2e50c30b4113",
        "colab": {
          "base_uri": "https://localhost:8080/",
          "height": 663
        }
      },
      "source": [
        "\n",
        "import requests \n",
        "import json \n",
        "import time\n",
        "import pandas as pd\n",
        "\n",
        "##Time and Sales\n",
        "#https://www.cmegroup.com/CmeWS/mvc/TimeandSales/425/G/J0\n",
        "\n",
        "#real time quote\n",
        "data = requests.get(\"https://www.cmegroup.com/CmeWS/mvc/Quotes/Future/425/G?\")\n",
        "\n",
        "injson = json.loads(data.text)['quotes']\n",
        "\n",
        "codelist = \"last,change,high,low,volume,mdKey,quoteCode,code,expirationMonth,ProductName,lastTradeDate,PriceChart,highLowLimits\"\n",
        "\n",
        "\n",
        "codelistar = codelist.split(',') \n",
        "\n",
        "codelistar.reverse()\n",
        "print(\"code\"+\"\\t\"+\"open\"+\"\\t\"+\"low\"+\"\\t\"+\"high\"+\"\\t\"+\"last\"+\"\\t\"+\"volume\"+\"\\t\"+\"TradeTime\")\n",
        "\n",
        "cNum=0\n",
        "prodVol=0\n",
        "for item in injson:\n",
        "    cNum=cNum+1\n",
        "\n",
        "    if len(item.get(\"last\"))>1:\n",
        "        print(item.get(\"code\")+\"\\t\"+item.get(\"open\")+\"\\t\"+item.get(\"low\")+\"\\t\"+item.get(\"high\")+\"\\t\"+item.get(\"last\")+\"\\t\"+item.get(\"volume\")+\"\\t\"+item.get(\"updated\"))\n",
        "        \n",
        "\n",
        "\n",
        "print (cNum)\n",
        "\n",
        "\n",
        "#settlement price\n",
        "date='02/21/2020'\n",
        "url=f'https://www.cmegroup.com/CmeWS/mvc/Settlements/Futures/Settlements/425/FUT?tradeDate={date}'\n",
        "r= requests.get(url)\n",
        "df=pd.DataFrame(r.json()['settlements'])\n",
        "print(df)\n"
      ],
      "execution_count": 1,
      "outputs": [
        {
          "output_type": "stream",
          "text": [
            "code\topen\tlow\thigh\tlast\tvolume\tTradeTime\n",
            "CLJ0\t48.63\t45.88\t48.78\t46.81\t868,932\t12:54:53 CT<br /> 27 Feb 2020\n",
            "CLK0\t48.70\t46.10\t48.90\t47.01\t150,320\t12:54:52 CT<br /> 27 Feb 2020\n",
            "CLM0\t48.89\t46.25\t48.98\t47.14\t130,630\t12:54:53 CT<br /> 27 Feb 2020\n",
            "CLN0\t48.86\t46.39\t48.96\t47.25\t75,274\t12:54:51 CT<br /> 27 Feb 2020\n",
            "CLQ0\t48.72\t46.50\t48.73\t47.29\t42,985\t12:54:48 CT<br /> 27 Feb 2020\n",
            "CLU0\t48.78\t46.64\t48.78\t47.35\t45,676\t12:54:41 CT<br /> 27 Feb 2020\n",
            "CLV0\t48.79\t46.78\t48.79\t47.48\t27,055\t12:54:48 CT<br /> 27 Feb 2020\n",
            "CLX0\t48.92\t46.88\t48.92\t47.42\t12,606\t12:54:53 CT<br /> 27 Feb 2020\n",
            "CLZ0\t48.99\t47.00\t49.01\t47.59\t85,211\t12:54:53 CT<br /> 27 Feb 2020\n",
            "CLF1\t48.38\t47.19\t48.58\t47.52\t6,325\t12:53:19 CT<br /> 27 Feb 2020\n",
            "CLG1\t48.55\t47.28\t48.80\t47.55\t3,264\t12:54:16 CT<br /> 27 Feb 2020\n",
            "CLH1\t48.46\t47.27\t48.57\t47.57\t6,681\t12:54:53 CT<br /> 27 Feb 2020\n",
            "CLJ1\t47.82\t47.47\t48.15\t48.15\t1,861\t12:52:41 CT<br /> 27 Feb 2020\n",
            "CLK1\t47.64\t47.64\t47.64\t47.64\t1,421\t12:52:41 CT<br /> 27 Feb 2020\n",
            "CLM1\t48.87\t47.39\t48.88\t47.80\t22,147\t12:54:53 CT<br /> 27 Feb 2020\n",
            "CLN1\t48.50\t47.70\t48.50\t47.70\t789\t12:51:49 CT<br /> 27 Feb 2020\n",
            "CLU1\t48.21\t48.21\t48.21\t48.21\t1,113\t12:46:34 CT<br /> 27 Feb 2020\n",
            "CLZ1\t48.83\t47.82\t48.97\t48.08\t28,678\t12:54:51 CT<br /> 27 Feb 2020\n",
            "CLM2\t49.02\t48.18\t49.09\t48.32\t2,396\t12:54:34 CT<br /> 27 Feb 2020\n",
            "CLZ2\t49.14\t48.45\t49.35\t48.55\t7,414\t12:54:32 CT<br /> 27 Feb 2020\n",
            "CLZ3\t49.50\t49.01\t49.50\t49.30\t1,172\t12:54:07 CT<br /> 27 Feb 2020\n",
            "CLG4\t50.02\t50.02\t50.02\t50.02\t1\t08:44:26 CT<br /> 27 Feb 2020\n",
            "131\n",
            "      month   open   high     low   last change settle     volume openInterest\n",
            "0    APR 20  53.74  53.86   52.55  53.46   -.50  53.38    721,984      415,564\n",
            "1    MAY 20  53.93  54.02   52.72  53.59   -.56  53.50    146,838      212,897\n",
            "2    JUN 20  53.98  54.09   52.81  53.59   -.59  53.54    113,841      215,543\n",
            "3    JLY 20  53.85  53.96   52.82  53.41   -.60  53.50     57,485      130,805\n",
            "4    AUG 20  53.71  53.82  52.72A  53.27   -.61  53.37     41,668       82,550\n",
            "..      ...    ...    ...     ...    ...    ...    ...        ...          ...\n",
            "127  NOV 30      -      -       -      -   -.05  52.42          0            0\n",
            "128  DEC 30      -      -       -      -   -.05  52.42          0            0\n",
            "129  JAN 31      -      -       -      -   -.05  52.42          0            0\n",
            "130  FEB 31      -      -       -      -   -.05  52.42          0            0\n",
            "131   Total                                             1,260,692    2,109,733\n",
            "\n",
            "[132 rows x 9 columns]\n"
          ],
          "name": "stdout"
        }
      ]
    }
  ]
}